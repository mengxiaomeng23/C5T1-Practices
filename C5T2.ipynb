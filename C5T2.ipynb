{
 "cells": [
  {
   "cell_type": "markdown",
   "metadata": {},
   "source": [
    "Import Libraries"
   ]
  },
  {
   "cell_type": "code",
   "execution_count": 22,
   "metadata": {},
   "outputs": [],
   "source": [
    "# Import Libraries\n",
    "import numpy as np\n",
    "import pandas as pd\n",
    "import matplotlib as mpl\n",
    "import matplotlib.pyplot as plt\n",
    "import seaborn as sns\n",
    "import statistics"
   ]
  },
  {
   "cell_type": "markdown",
   "metadata": {},
   "source": [
    "Reading Data Set"
   ]
  },
  {
   "cell_type": "code",
   "execution_count": 23,
   "metadata": {},
   "outputs": [],
   "source": [
    "# Read Data\n",
    "credit = pd.read_csv(r'C:\\Users\\kylie\\Documents\\UT Data Analysis Course\\Course Five\\default of credit card clients.csv', header =1)"
   ]
  },
  {
   "cell_type": "markdown",
   "metadata": {},
   "source": [
    "Analysis"
   ]
  },
  {
   "cell_type": "code",
   "execution_count": 24,
   "metadata": {},
   "outputs": [
    {
     "data": {
      "text/html": [
       "<div>\n",
       "<style scoped>\n",
       "    .dataframe tbody tr th:only-of-type {\n",
       "        vertical-align: middle;\n",
       "    }\n",
       "\n",
       "    .dataframe tbody tr th {\n",
       "        vertical-align: top;\n",
       "    }\n",
       "\n",
       "    .dataframe thead th {\n",
       "        text-align: right;\n",
       "    }\n",
       "</style>\n",
       "<table border=\"1\" class=\"dataframe\">\n",
       "  <thead>\n",
       "    <tr style=\"text-align: right;\">\n",
       "      <th></th>\n",
       "      <th>ID</th>\n",
       "      <th>LIMIT_BAL</th>\n",
       "      <th>SEX</th>\n",
       "      <th>EDUCATION</th>\n",
       "      <th>MARRIAGE</th>\n",
       "      <th>AGE</th>\n",
       "      <th>PAY_0</th>\n",
       "      <th>PAY_2</th>\n",
       "      <th>PAY_3</th>\n",
       "      <th>PAY_4</th>\n",
       "      <th>...</th>\n",
       "      <th>BILL_AMT4</th>\n",
       "      <th>BILL_AMT5</th>\n",
       "      <th>BILL_AMT6</th>\n",
       "      <th>PAY_AMT1</th>\n",
       "      <th>PAY_AMT2</th>\n",
       "      <th>PAY_AMT3</th>\n",
       "      <th>PAY_AMT4</th>\n",
       "      <th>PAY_AMT5</th>\n",
       "      <th>PAY_AMT6</th>\n",
       "      <th>default payment next month</th>\n",
       "    </tr>\n",
       "  </thead>\n",
       "  <tbody>\n",
       "    <tr>\n",
       "      <th>0</th>\n",
       "      <td>1</td>\n",
       "      <td>20000</td>\n",
       "      <td>2</td>\n",
       "      <td>2</td>\n",
       "      <td>1</td>\n",
       "      <td>24</td>\n",
       "      <td>2</td>\n",
       "      <td>2</td>\n",
       "      <td>-1</td>\n",
       "      <td>-1</td>\n",
       "      <td>...</td>\n",
       "      <td>0</td>\n",
       "      <td>0</td>\n",
       "      <td>0</td>\n",
       "      <td>0</td>\n",
       "      <td>689</td>\n",
       "      <td>0</td>\n",
       "      <td>0</td>\n",
       "      <td>0</td>\n",
       "      <td>0</td>\n",
       "      <td>1</td>\n",
       "    </tr>\n",
       "    <tr>\n",
       "      <th>1</th>\n",
       "      <td>2</td>\n",
       "      <td>120000</td>\n",
       "      <td>2</td>\n",
       "      <td>2</td>\n",
       "      <td>2</td>\n",
       "      <td>26</td>\n",
       "      <td>-1</td>\n",
       "      <td>2</td>\n",
       "      <td>0</td>\n",
       "      <td>0</td>\n",
       "      <td>...</td>\n",
       "      <td>3272</td>\n",
       "      <td>3455</td>\n",
       "      <td>3261</td>\n",
       "      <td>0</td>\n",
       "      <td>1000</td>\n",
       "      <td>1000</td>\n",
       "      <td>1000</td>\n",
       "      <td>0</td>\n",
       "      <td>2000</td>\n",
       "      <td>1</td>\n",
       "    </tr>\n",
       "    <tr>\n",
       "      <th>2</th>\n",
       "      <td>3</td>\n",
       "      <td>90000</td>\n",
       "      <td>2</td>\n",
       "      <td>2</td>\n",
       "      <td>2</td>\n",
       "      <td>34</td>\n",
       "      <td>0</td>\n",
       "      <td>0</td>\n",
       "      <td>0</td>\n",
       "      <td>0</td>\n",
       "      <td>...</td>\n",
       "      <td>14331</td>\n",
       "      <td>14948</td>\n",
       "      <td>15549</td>\n",
       "      <td>1518</td>\n",
       "      <td>1500</td>\n",
       "      <td>1000</td>\n",
       "      <td>1000</td>\n",
       "      <td>1000</td>\n",
       "      <td>5000</td>\n",
       "      <td>0</td>\n",
       "    </tr>\n",
       "    <tr>\n",
       "      <th>3</th>\n",
       "      <td>4</td>\n",
       "      <td>50000</td>\n",
       "      <td>2</td>\n",
       "      <td>2</td>\n",
       "      <td>1</td>\n",
       "      <td>37</td>\n",
       "      <td>0</td>\n",
       "      <td>0</td>\n",
       "      <td>0</td>\n",
       "      <td>0</td>\n",
       "      <td>...</td>\n",
       "      <td>28314</td>\n",
       "      <td>28959</td>\n",
       "      <td>29547</td>\n",
       "      <td>2000</td>\n",
       "      <td>2019</td>\n",
       "      <td>1200</td>\n",
       "      <td>1100</td>\n",
       "      <td>1069</td>\n",
       "      <td>1000</td>\n",
       "      <td>0</td>\n",
       "    </tr>\n",
       "    <tr>\n",
       "      <th>4</th>\n",
       "      <td>5</td>\n",
       "      <td>50000</td>\n",
       "      <td>1</td>\n",
       "      <td>2</td>\n",
       "      <td>1</td>\n",
       "      <td>57</td>\n",
       "      <td>-1</td>\n",
       "      <td>0</td>\n",
       "      <td>-1</td>\n",
       "      <td>0</td>\n",
       "      <td>...</td>\n",
       "      <td>20940</td>\n",
       "      <td>19146</td>\n",
       "      <td>19131</td>\n",
       "      <td>2000</td>\n",
       "      <td>36681</td>\n",
       "      <td>10000</td>\n",
       "      <td>9000</td>\n",
       "      <td>689</td>\n",
       "      <td>679</td>\n",
       "      <td>0</td>\n",
       "    </tr>\n",
       "  </tbody>\n",
       "</table>\n",
       "<p>5 rows × 25 columns</p>\n",
       "</div>"
      ],
      "text/plain": [
       "   ID  LIMIT_BAL  SEX  EDUCATION  MARRIAGE  AGE  PAY_0  PAY_2  PAY_3  PAY_4  \\\n",
       "0   1      20000    2          2         1   24      2      2     -1     -1   \n",
       "1   2     120000    2          2         2   26     -1      2      0      0   \n",
       "2   3      90000    2          2         2   34      0      0      0      0   \n",
       "3   4      50000    2          2         1   37      0      0      0      0   \n",
       "4   5      50000    1          2         1   57     -1      0     -1      0   \n",
       "\n",
       "   ...  BILL_AMT4  BILL_AMT5  BILL_AMT6  PAY_AMT1  PAY_AMT2  PAY_AMT3  \\\n",
       "0  ...          0          0          0         0       689         0   \n",
       "1  ...       3272       3455       3261         0      1000      1000   \n",
       "2  ...      14331      14948      15549      1518      1500      1000   \n",
       "3  ...      28314      28959      29547      2000      2019      1200   \n",
       "4  ...      20940      19146      19131      2000     36681     10000   \n",
       "\n",
       "   PAY_AMT4  PAY_AMT5  PAY_AMT6  default payment next month  \n",
       "0         0         0         0                           1  \n",
       "1      1000         0      2000                           1  \n",
       "2      1000      1000      5000                           0  \n",
       "3      1100      1069      1000                           0  \n",
       "4      9000       689       679                           0  \n",
       "\n",
       "[5 rows x 25 columns]"
      ]
     },
     "execution_count": 24,
     "metadata": {},
     "output_type": "execute_result"
    }
   ],
   "source": [
    "# Check the first five rows of data set.\n",
    "credit.head()"
   ]
  },
  {
   "cell_type": "code",
   "execution_count": 25,
   "metadata": {},
   "outputs": [
    {
     "name": "stdout",
     "output_type": "stream",
     "text": [
      "Index(['ID', 'LIMIT_BAL', 'SEX', 'EDUCATION', 'MARRIAGE', 'AGE', 'PAY_0',\n",
      "       'PAY_2', 'PAY_3', 'PAY_4', 'PAY_5', 'PAY_6', 'BILL_AMT1', 'BILL_AMT2',\n",
      "       'BILL_AMT3', 'BILL_AMT4', 'BILL_AMT5', 'BILL_AMT6', 'PAY_AMT1',\n",
      "       'PAY_AMT2', 'PAY_AMT3', 'PAY_AMT4', 'PAY_AMT5', 'PAY_AMT6',\n",
      "       'default payment next month'],\n",
      "      dtype='object')\n"
     ]
    }
   ],
   "source": [
    "# Header of the data set.\n",
    "header = credit.dtypes.index\n",
    "print(header)"
   ]
  },
  {
   "cell_type": "code",
   "execution_count": 26,
   "metadata": {},
   "outputs": [
    {
     "name": "stdout",
     "output_type": "stream",
     "text": [
      "<class 'pandas.core.frame.DataFrame'>\n",
      "RangeIndex: 30000 entries, 0 to 29999\n",
      "Data columns (total 25 columns):\n",
      " #   Column                      Non-Null Count  Dtype\n",
      "---  ------                      --------------  -----\n",
      " 0   ID                          30000 non-null  int64\n",
      " 1   LIMIT_BAL                   30000 non-null  int64\n",
      " 2   SEX                         30000 non-null  int64\n",
      " 3   EDUCATION                   30000 non-null  int64\n",
      " 4   MARRIAGE                    30000 non-null  int64\n",
      " 5   AGE                         30000 non-null  int64\n",
      " 6   PAY_0                       30000 non-null  int64\n",
      " 7   PAY_2                       30000 non-null  int64\n",
      " 8   PAY_3                       30000 non-null  int64\n",
      " 9   PAY_4                       30000 non-null  int64\n",
      " 10  PAY_5                       30000 non-null  int64\n",
      " 11  PAY_6                       30000 non-null  int64\n",
      " 12  BILL_AMT1                   30000 non-null  int64\n",
      " 13  BILL_AMT2                   30000 non-null  int64\n",
      " 14  BILL_AMT3                   30000 non-null  int64\n",
      " 15  BILL_AMT4                   30000 non-null  int64\n",
      " 16  BILL_AMT5                   30000 non-null  int64\n",
      " 17  BILL_AMT6                   30000 non-null  int64\n",
      " 18  PAY_AMT1                    30000 non-null  int64\n",
      " 19  PAY_AMT2                    30000 non-null  int64\n",
      " 20  PAY_AMT3                    30000 non-null  int64\n",
      " 21  PAY_AMT4                    30000 non-null  int64\n",
      " 22  PAY_AMT5                    30000 non-null  int64\n",
      " 23  PAY_AMT6                    30000 non-null  int64\n",
      " 24  default payment next month  30000 non-null  int64\n",
      "dtypes: int64(25)\n",
      "memory usage: 5.7 MB\n"
     ]
    }
   ],
   "source": [
    "# Information about the data set.\n",
    "credit.info()"
   ]
  },
  {
   "cell_type": "markdown",
   "metadata": {},
   "source": [
    "Variable Reduction"
   ]
  },
  {
   "cell_type": "code",
   "execution_count": 43,
   "metadata": {},
   "outputs": [
    {
     "name": "stdout",
     "output_type": "stream",
     "text": [
      "ID                            7.500000e+07\n",
      "LIMIT_BAL                     1.683389e+10\n",
      "SEX                           2.392394e-01\n",
      "EDUCATION                     6.246302e-01\n",
      "MARRIAGE                      2.724432e-01\n",
      "AGE                           8.496692e+01\n",
      "PAY_0                         1.262888e+00\n",
      "PAY_2                         1.433206e+00\n",
      "PAY_3                         1.432444e+00\n",
      "PAY_4                         1.366840e+00\n",
      "PAY_5                         1.284071e+00\n",
      "PAY_6                         1.322427e+00\n",
      "BILL_AMT1                     5.422059e+09\n",
      "BILL_AMT2                     5.065537e+09\n",
      "BILL_AMT3                     4.809177e+09\n",
      "BILL_AMT4                     4.138578e+09\n",
      "BILL_AMT5                     3.696171e+09\n",
      "BILL_AMT6                     3.546574e+09\n",
      "PAY_AMT1                      2.743331e+08\n",
      "PAY_AMT2                      5.308640e+08\n",
      "PAY_AMT3                      3.099948e+08\n",
      "PAY_AMT4                      2.454204e+08\n",
      "PAY_AMT5                      2.334188e+08\n",
      "PAY_AMT6                      3.160278e+08\n",
      "default payment next month    1.722706e-01\n",
      "dtype: float64\n"
     ]
    }
   ],
   "source": [
    "print(np.var(credit))"
   ]
  },
  {
   "cell_type": "markdown",
   "metadata": {},
   "source": [
    "There is no near zero variance variables."
   ]
  },
  {
   "cell_type": "code",
   "execution_count": 27,
   "metadata": {},
   "outputs": [
    {
     "name": "stdout",
     "output_type": "stream",
     "text": [
      "                                  ID  LIMIT_BAL       SEX  EDUCATION  \\\n",
      "ID                          1.000000   0.026179  0.018497   0.039177   \n",
      "LIMIT_BAL                   0.026179   1.000000  0.024755  -0.219161   \n",
      "SEX                         0.018497   0.024755  1.000000   0.014232   \n",
      "EDUCATION                   0.039177  -0.219161  0.014232   1.000000   \n",
      "MARRIAGE                   -0.029079  -0.108139 -0.031389  -0.143464   \n",
      "AGE                         0.018678   0.144713 -0.090874   0.175061   \n",
      "PAY_0                      -0.030575  -0.271214 -0.057643   0.105364   \n",
      "PAY_2                      -0.011215  -0.296382 -0.070771   0.121566   \n",
      "PAY_3                      -0.018494  -0.286123 -0.066096   0.114025   \n",
      "PAY_4                      -0.002735  -0.267460 -0.060173   0.108793   \n",
      "PAY_5                      -0.022199  -0.249411 -0.055064   0.097520   \n",
      "PAY_6                      -0.020270  -0.235195 -0.044008   0.082316   \n",
      "BILL_AMT1                   0.019389   0.285430 -0.033642   0.023581   \n",
      "BILL_AMT2                   0.017982   0.278314 -0.031183   0.018749   \n",
      "BILL_AMT3                   0.024354   0.283236 -0.024563   0.013002   \n",
      "BILL_AMT4                   0.040351   0.293988 -0.021880  -0.000451   \n",
      "BILL_AMT5                   0.016705   0.295562 -0.017005  -0.007567   \n",
      "BILL_AMT6                   0.016730   0.290389 -0.016733  -0.009099   \n",
      "PAY_AMT1                    0.009742   0.195236 -0.000242  -0.037456   \n",
      "PAY_AMT2                    0.008406   0.178408 -0.001391  -0.030038   \n",
      "PAY_AMT3                    0.039151   0.210167 -0.008597  -0.039943   \n",
      "PAY_AMT4                    0.007793   0.203242 -0.002229  -0.038218   \n",
      "PAY_AMT5                    0.000652   0.217202 -0.001667  -0.040358   \n",
      "PAY_AMT6                    0.003000   0.219595 -0.002766  -0.037200   \n",
      "default payment next month -0.013952  -0.153520 -0.039961   0.028006   \n",
      "\n",
      "                            MARRIAGE       AGE     PAY_0     PAY_2     PAY_3  \\\n",
      "ID                         -0.029079  0.018678 -0.030575 -0.011215 -0.018494   \n",
      "LIMIT_BAL                  -0.108139  0.144713 -0.271214 -0.296382 -0.286123   \n",
      "SEX                        -0.031389 -0.090874 -0.057643 -0.070771 -0.066096   \n",
      "EDUCATION                  -0.143464  0.175061  0.105364  0.121566  0.114025   \n",
      "MARRIAGE                    1.000000 -0.414170  0.019917  0.024199  0.032688   \n",
      "AGE                        -0.414170  1.000000 -0.039447 -0.050148 -0.053048   \n",
      "PAY_0                       0.019917 -0.039447  1.000000  0.672164  0.574245   \n",
      "PAY_2                       0.024199 -0.050148  0.672164  1.000000  0.766552   \n",
      "PAY_3                       0.032688 -0.053048  0.574245  0.766552  1.000000   \n",
      "PAY_4                       0.033122 -0.049722  0.538841  0.662067  0.777359   \n",
      "PAY_5                       0.035629 -0.053826  0.509426  0.622780  0.686775   \n",
      "PAY_6                       0.034345 -0.048773  0.474553  0.575501  0.632684   \n",
      "BILL_AMT1                  -0.023472  0.056239  0.187068  0.234887  0.208473   \n",
      "BILL_AMT2                  -0.021602  0.054283  0.189859  0.235257  0.237295   \n",
      "BILL_AMT3                  -0.024909  0.053710  0.179785  0.224146  0.227494   \n",
      "BILL_AMT4                  -0.023344  0.051353  0.179125  0.222237  0.227202   \n",
      "BILL_AMT5                  -0.025393  0.049345  0.180635  0.221348  0.225145   \n",
      "BILL_AMT6                  -0.021207  0.047613  0.176980  0.219403  0.222327   \n",
      "PAY_AMT1                   -0.005979  0.026147 -0.079269 -0.080701  0.001295   \n",
      "PAY_AMT2                   -0.008093  0.021785 -0.070101 -0.058990 -0.066793   \n",
      "PAY_AMT3                   -0.003541  0.029247 -0.070561 -0.055901 -0.053311   \n",
      "PAY_AMT4                   -0.012659  0.021379 -0.064005 -0.046858 -0.046067   \n",
      "PAY_AMT5                   -0.001205  0.022850 -0.058190 -0.037093 -0.035863   \n",
      "PAY_AMT6                   -0.006641  0.019478 -0.058673 -0.036500 -0.035861   \n",
      "default payment next month -0.024339  0.013890  0.324794  0.263551  0.235253   \n",
      "\n",
      "                               PAY_4  ...  BILL_AMT4  BILL_AMT5  BILL_AMT6  \\\n",
      "ID                         -0.002735  ...   0.040351   0.016705   0.016730   \n",
      "LIMIT_BAL                  -0.267460  ...   0.293988   0.295562   0.290389   \n",
      "SEX                        -0.060173  ...  -0.021880  -0.017005  -0.016733   \n",
      "EDUCATION                   0.108793  ...  -0.000451  -0.007567  -0.009099   \n",
      "MARRIAGE                    0.033122  ...  -0.023344  -0.025393  -0.021207   \n",
      "AGE                        -0.049722  ...   0.051353   0.049345   0.047613   \n",
      "PAY_0                       0.538841  ...   0.179125   0.180635   0.176980   \n",
      "PAY_2                       0.662067  ...   0.222237   0.221348   0.219403   \n",
      "PAY_3                       0.777359  ...   0.227202   0.225145   0.222327   \n",
      "PAY_4                       1.000000  ...   0.245917   0.242902   0.239154   \n",
      "PAY_5                       0.819835  ...   0.271915   0.269783   0.262509   \n",
      "PAY_6                       0.716449  ...   0.266356   0.290894   0.285091   \n",
      "BILL_AMT1                   0.202812  ...   0.860272   0.829779   0.802650   \n",
      "BILL_AMT2                   0.225816  ...   0.892482   0.859778   0.831594   \n",
      "BILL_AMT3                   0.244983  ...   0.923969   0.883910   0.853320   \n",
      "BILL_AMT4                   0.245917  ...   1.000000   0.940134   0.900941   \n",
      "BILL_AMT5                   0.242902  ...   0.940134   1.000000   0.946197   \n",
      "BILL_AMT6                   0.239154  ...   0.900941   0.946197   1.000000   \n",
      "PAY_AMT1                   -0.009362  ...   0.233012   0.217031   0.199965   \n",
      "PAY_AMT2                   -0.001944  ...   0.207564   0.181246   0.172663   \n",
      "PAY_AMT3                   -0.069235  ...   0.300023   0.252305   0.233770   \n",
      "PAY_AMT4                   -0.043461  ...   0.130191   0.293118   0.250237   \n",
      "PAY_AMT5                   -0.033590  ...   0.160433   0.141574   0.307729   \n",
      "PAY_AMT6                   -0.026565  ...   0.177637   0.164184   0.115494   \n",
      "default payment next month  0.216614  ...  -0.010156  -0.006760  -0.005372   \n",
      "\n",
      "                            PAY_AMT1  PAY_AMT2  PAY_AMT3  PAY_AMT4  PAY_AMT5  \\\n",
      "ID                          0.009742  0.008406  0.039151  0.007793  0.000652   \n",
      "LIMIT_BAL                   0.195236  0.178408  0.210167  0.203242  0.217202   \n",
      "SEX                        -0.000242 -0.001391 -0.008597 -0.002229 -0.001667   \n",
      "EDUCATION                  -0.037456 -0.030038 -0.039943 -0.038218 -0.040358   \n",
      "MARRIAGE                   -0.005979 -0.008093 -0.003541 -0.012659 -0.001205   \n",
      "AGE                         0.026147  0.021785  0.029247  0.021379  0.022850   \n",
      "PAY_0                      -0.079269 -0.070101 -0.070561 -0.064005 -0.058190   \n",
      "PAY_2                      -0.080701 -0.058990 -0.055901 -0.046858 -0.037093   \n",
      "PAY_3                       0.001295 -0.066793 -0.053311 -0.046067 -0.035863   \n",
      "PAY_4                      -0.009362 -0.001944 -0.069235 -0.043461 -0.033590   \n",
      "PAY_5                      -0.006089 -0.003191  0.009062 -0.058299 -0.033337   \n",
      "PAY_6                      -0.001496 -0.005223  0.005834  0.019018 -0.046434   \n",
      "BILL_AMT1                   0.140277  0.099355  0.156887  0.158303  0.167026   \n",
      "BILL_AMT2                   0.280365  0.100851  0.150718  0.147398  0.157957   \n",
      "BILL_AMT3                   0.244335  0.316936  0.130011  0.143405  0.179712   \n",
      "BILL_AMT4                   0.233012  0.207564  0.300023  0.130191  0.160433   \n",
      "BILL_AMT5                   0.217031  0.181246  0.252305  0.293118  0.141574   \n",
      "BILL_AMT6                   0.199965  0.172663  0.233770  0.250237  0.307729   \n",
      "PAY_AMT1                    1.000000  0.285576  0.252191  0.199558  0.148459   \n",
      "PAY_AMT2                    0.285576  1.000000  0.244770  0.180107  0.180908   \n",
      "PAY_AMT3                    0.252191  0.244770  1.000000  0.216325  0.159214   \n",
      "PAY_AMT4                    0.199558  0.180107  0.216325  1.000000  0.151830   \n",
      "PAY_AMT5                    0.148459  0.180908  0.159214  0.151830  1.000000   \n",
      "PAY_AMT6                    0.185735  0.157634  0.162740  0.157834  0.154896   \n",
      "default payment next month -0.072929 -0.058579 -0.056250 -0.056827 -0.055124   \n",
      "\n",
      "                            PAY_AMT6  default payment next month  \n",
      "ID                          0.003000                   -0.013952  \n",
      "LIMIT_BAL                   0.219595                   -0.153520  \n",
      "SEX                        -0.002766                   -0.039961  \n",
      "EDUCATION                  -0.037200                    0.028006  \n",
      "MARRIAGE                   -0.006641                   -0.024339  \n",
      "AGE                         0.019478                    0.013890  \n",
      "PAY_0                      -0.058673                    0.324794  \n",
      "PAY_2                      -0.036500                    0.263551  \n",
      "PAY_3                      -0.035861                    0.235253  \n",
      "PAY_4                      -0.026565                    0.216614  \n",
      "PAY_5                      -0.023027                    0.204149  \n",
      "PAY_6                      -0.025299                    0.186866  \n",
      "BILL_AMT1                   0.179341                   -0.019644  \n",
      "BILL_AMT2                   0.174256                   -0.014193  \n",
      "BILL_AMT3                   0.182326                   -0.014076  \n",
      "BILL_AMT4                   0.177637                   -0.010156  \n",
      "BILL_AMT5                   0.164184                   -0.006760  \n",
      "BILL_AMT6                   0.115494                   -0.005372  \n",
      "PAY_AMT1                    0.185735                   -0.072929  \n",
      "PAY_AMT2                    0.157634                   -0.058579  \n",
      "PAY_AMT3                    0.162740                   -0.056250  \n",
      "PAY_AMT4                    0.157834                   -0.056827  \n",
      "PAY_AMT5                    0.154896                   -0.055124  \n",
      "PAY_AMT6                    1.000000                   -0.053183  \n",
      "default payment next month -0.053183                    1.000000  \n",
      "\n",
      "[25 rows x 25 columns]\n"
     ]
    }
   ],
   "source": [
    "# Correlation Matrix\n",
    "corrMat = credit.corr()\n",
    "print(corrMat)"
   ]
  },
  {
   "cell_type": "markdown",
   "metadata": {},
   "source": [
    "From correlation matirx, BILL_AMTs are highly correlated. This may cause multicollinearity problem. \n",
    "Keep BILL_AMT1. Remove BILL_AMT2 - BILL_AMT6. "
   ]
  },
  {
   "cell_type": "code",
   "execution_count": 28,
   "metadata": {},
   "outputs": [
    {
     "data": {
      "text/plain": [
       "count    30000.000000\n",
       "mean         0.221200\n",
       "std          0.415062\n",
       "min          0.000000\n",
       "25%          0.000000\n",
       "50%          0.000000\n",
       "75%          0.000000\n",
       "max          1.000000\n",
       "Name: default payment next month, dtype: float64"
      ]
     },
     "execution_count": 28,
     "metadata": {},
     "output_type": "execute_result"
    }
   ],
   "source": [
    "# Default Payments Default=1, not Default=0\n",
    "credit['default payment next month'].describe()"
   ]
  },
  {
   "cell_type": "code",
   "execution_count": 29,
   "metadata": {},
   "outputs": [
    {
     "data": {
      "image/png": "[encoded data removed]",
      "text/plain": [
       "<Figure size 432x288 with 1 Axes>"
      ]
     },
     "metadata": {
      "needs_background": "light"
     },
     "output_type": "display_data"
    }
   ],
   "source": [
    "# Default payments histogram\n",
    "plt.hist(credit['default payment next month'])\n",
    "plt.show()"
   ]
  },
  {
   "cell_type": "markdown",
   "metadata": {},
   "source": [
    "22.12% of customer defaulted."
   ]
  },
  {
   "cell_type": "markdown",
   "metadata": {},
   "source": [
    "This section is EDA on Demographics"
   ]
  },
  {
   "cell_type": "code",
   "execution_count": 30,
   "metadata": {},
   "outputs": [
    {
     "data": {
      "text/plain": [
       "SEX\n",
       "1    11888\n",
       "2    18112\n",
       "Name: SEX, dtype: int64"
      ]
     },
     "execution_count": 30,
     "metadata": {},
     "output_type": "execute_result"
    }
   ],
   "source": [
    "# Demographics: Sex\n",
    "credit.groupby('SEX')['SEX'].count()"
   ]
  },
  {
   "cell_type": "code",
   "execution_count": 31,
   "metadata": {},
   "outputs": [
    {
     "data": {
      "text/plain": [
       "<seaborn.axisgrid.FacetGrid at 0x2772bf65788>"
      ]
     },
     "execution_count": 31,
     "metadata": {},
     "output_type": "execute_result"
    },
    {
     "data": {
      "image/png": "[encoded data removed]",
      "text/plain": [
       "<Figure size 360x360 with 1 Axes>"
      ]
     },
     "metadata": {
      "needs_background": "light"
     },
     "output_type": "display_data"
    }
   ],
   "source": [
    "# Use seaborn to plot males and females count: male=1, female=2\n",
    "sns.catplot('SEX', data=credit, kind='count', aspect=1.0)"
   ]
  },
  {
   "cell_type": "markdown",
   "metadata": {},
   "source": [
    "In the data set, there are more female customers than male."
   ]
  },
  {
   "cell_type": "code",
   "execution_count": 42,
   "metadata": {},
   "outputs": [
    {
     "data": {
      "text/plain": [
       "<seaborn.axisgrid.FacetGrid at 0x2772d3c4a48>"
      ]
     },
     "execution_count": 42,
     "metadata": {},
     "output_type": "execute_result"
    },
    {
     "data": {
      "image/png": "[encoded data removed]",
      "text/plain": [
       "<Figure size 402.375x360 with 1 Axes>"
      ]
     },
     "metadata": {
      "needs_background": "light"
     },
     "output_type": "display_data"
    }
   ],
   "source": [
    "# Use saeborn to group by Sex and Default rate\n",
    "g = sns.catplot('default payment next month', data=credit, hue='SEX', kind='count', aspect=1.0)\n",
    "g.set_xlabels('Sex Default')"
   ]
  },
  {
   "cell_type": "markdown",
   "metadata": {},
   "source": [
    "In the defaut payment customers, there are more female than male."
   ]
  },
  {
   "cell_type": "code",
   "execution_count": 61,
   "metadata": {
    "scrolled": true
   },
   "outputs": [
    {
     "data": {
      "text/html": [
       "<div>\n",
       "<style scoped>\n",
       "    .dataframe tbody tr th:only-of-type {\n",
       "        vertical-align: middle;\n",
       "    }\n",
       "\n",
       "    .dataframe tbody tr th {\n",
       "        vertical-align: top;\n",
       "    }\n",
       "\n",
       "    .dataframe thead th {\n",
       "        text-align: right;\n",
       "    }\n",
       "</style>\n",
       "<table border=\"1\" class=\"dataframe\">\n",
       "  <thead>\n",
       "    <tr style=\"text-align: right;\">\n",
       "      <th></th>\n",
       "      <th>count</th>\n",
       "      <th>percentage</th>\n",
       "    </tr>\n",
       "    <tr>\n",
       "      <th>EDUCATION</th>\n",
       "      <th></th>\n",
       "      <th></th>\n",
       "    </tr>\n",
       "  </thead>\n",
       "  <tbody>\n",
       "    <tr>\n",
       "      <th>0</th>\n",
       "      <td>14</td>\n",
       "      <td>0.000467</td>\n",
       "    </tr>\n",
       "    <tr>\n",
       "      <th>1</th>\n",
       "      <td>10585</td>\n",
       "      <td>0.352833</td>\n",
       "    </tr>\n",
       "    <tr>\n",
       "      <th>2</th>\n",
       "      <td>14030</td>\n",
       "      <td>0.467667</td>\n",
       "    </tr>\n",
       "    <tr>\n",
       "      <th>3</th>\n",
       "      <td>4917</td>\n",
       "      <td>0.163900</td>\n",
       "    </tr>\n",
       "    <tr>\n",
       "      <th>4</th>\n",
       "      <td>123</td>\n",
       "      <td>0.004100</td>\n",
       "    </tr>\n",
       "    <tr>\n",
       "      <th>5</th>\n",
       "      <td>280</td>\n",
       "      <td>0.009333</td>\n",
       "    </tr>\n",
       "    <tr>\n",
       "      <th>6</th>\n",
       "      <td>51</td>\n",
       "      <td>0.001700</td>\n",
       "    </tr>\n",
       "  </tbody>\n",
       "</table>\n",
       "</div>"
      ],
      "text/plain": [
       "           count  percentage\n",
       "EDUCATION                   \n",
       "0             14    0.000467\n",
       "1          10585    0.352833\n",
       "2          14030    0.467667\n",
       "3           4917    0.163900\n",
       "4            123    0.004100\n",
       "5            280    0.009333\n",
       "6             51    0.001700"
      ]
     },
     "execution_count": 61,
     "metadata": {},
     "output_type": "execute_result"
    }
   ],
   "source": [
    "# Demographics: Education\n",
    "education_group = credit.groupby('EDUCATION')['EDUCATION'].count()\n",
    "education_percentage = education_group/30000\n",
    "education_group_percentage = pd.concat([education_group, education_percentage], axis=1)\n",
    "education_group_percentage.columns = ['count','percentage']\n",
    "education_group_percentage"
   ]
  },
  {
   "cell_type": "markdown",
   "metadata": {},
   "source": [
    "Most customers' education is high school and above. \n",
    "16.39% high school\n",
    "46.77% university\n",
    "35.28% graduate school. "
   ]
  },
  {
   "cell_type": "code",
   "execution_count": 45,
   "metadata": {},
   "outputs": [
    {
     "data": {
      "text/plain": [
       "<seaborn.axisgrid.FacetGrid at 0x2772d57ee48>"
      ]
     },
     "execution_count": 45,
     "metadata": {},
     "output_type": "execute_result"
    },
    {
     "data": {
      "image/png": "[encoded data removed]",
      "text/plain": [
       "<Figure size 360x360 with 1 Axes>"
      ]
     },
     "metadata": {
      "needs_background": "light"
     },
     "output_type": "display_data"
    }
   ],
   "source": [
    "# Use seaborn to plot the number of each Education group\n",
    "sns.catplot('EDUCATION', data=credit, kind='count', aspect=1.0)"
   ]
  },
  {
   "cell_type": "code",
   "execution_count": 35,
   "metadata": {},
   "outputs": [
    {
     "data": {
      "text/plain": [
       "<seaborn.axisgrid.FacetGrid at 0x2772d236848>"
      ]
     },
     "execution_count": 35,
     "metadata": {},
     "output_type": "execute_result"
    },
    {
     "data": {
      "image/png": "[encoded data removed]",
      "text/plain": [
       "<Figure size 607.25x360 with 1 Axes>"
      ]
     },
     "metadata": {
      "needs_background": "light"
     },
     "output_type": "display_data"
    }
   ],
   "source": [
    "# Use saeborn to group by Education and Default rate\n",
    "g = sns.catplot('default payment next month', data=credit, hue='EDUCATION', kind='count', aspect=1.5)\n",
    "g.set_xlabels('Education Default')"
   ]
  },
  {
   "cell_type": "markdown",
   "metadata": {},
   "source": [
    "The three education levels (high school, university and graduate) have more customers also have more defualt payments."
   ]
  },
  {
   "cell_type": "code",
   "execution_count": 36,
   "metadata": {},
   "outputs": [
    {
     "data": {
      "text/plain": [
       "MARRIAGE\n",
       "0       54\n",
       "1    13659\n",
       "2    15964\n",
       "3      323\n",
       "Name: MARRIAGE, dtype: int64"
      ]
     },
     "execution_count": 36,
     "metadata": {},
     "output_type": "execute_result"
    }
   ],
   "source": [
    "# Demographics: Education\n",
    "credit.groupby('MARRIAGE')['MARRIAGE'].count()"
   ]
  },
  {
   "cell_type": "code",
   "execution_count": 37,
   "metadata": {},
   "outputs": [
    {
     "data": {
      "text/plain": [
       "<seaborn.axisgrid.FacetGrid at 0x2772d22ad08>"
      ]
     },
     "execution_count": 37,
     "metadata": {},
     "output_type": "execute_result"
    },
    {
     "data": {
      "image/png": "[encoded data removed]",
      "text/plain": [
       "<Figure size 360x360 with 1 Axes>"
      ]
     },
     "metadata": {
      "needs_background": "light"
     },
     "output_type": "display_data"
    }
   ],
   "source": [
    "# Use seaborn to plot the number of each Education group\n",
    "sns.catplot('MARRIAGE', data=credit, kind='count', aspect=1.0)"
   ]
  },
  {
   "cell_type": "code",
   "execution_count": 38,
   "metadata": {},
   "outputs": [
    {
     "data": {
      "text/plain": [
       "<seaborn.axisgrid.FacetGrid at 0x2772d2bab88>"
      ]
     },
     "execution_count": 38,
     "metadata": {},
     "output_type": "execute_result"
    },
    {
     "data": {
      "image/png": "[encoded data removed]",
      "text/plain": [
       "<Figure size 601x360 with 1 Axes>"
      ]
     },
     "metadata": {
      "needs_background": "light"
     },
     "output_type": "display_data"
    }
   ],
   "source": [
    "# Again use saeborn to group by Sex and Default rate\n",
    "g = sns.catplot('default payment next month', data=credit, hue='MARRIAGE', kind='count', aspect=1.5)\n",
    "g.set_xlabels('Marriage Default')"
   ]
  },
  {
   "cell_type": "code",
   "execution_count": 68,
   "metadata": {},
   "outputs": [
    {
     "name": "stdout",
     "output_type": "stream",
     "text": [
      "count    30000.000000\n",
      "mean        35.485500\n",
      "std          9.217904\n",
      "min         21.000000\n",
      "25%         28.000000\n",
      "50%         34.000000\n",
      "75%         41.000000\n",
      "max         79.000000\n",
      "Name: AGE, dtype: float64\n",
      "Average and median amount of given credit are 167484 and 140000, respectively\n",
      "Variance of customer set is 16833894533.632648\n"
     ]
    }
   ],
   "source": [
    "# Demographics: Age\n",
    "print(credit['AGE'].describe())\n",
    "print('Average and median amount of given credit are %0.f and %0.f, respectively'%(credit.LIMIT_BAL.mean(), \n",
    "                                                                          credit.LIMIT_BAL.median()))\n",
    "print(\"Variance of customer set is % s\" \n",
    "      %(np.var(credit['LIMIT_BAL']))) "
   ]
  },
  {
   "cell_type": "markdown",
   "metadata": {},
   "source": [
    "Customers in this data set are young to middle age."
   ]
  },
  {
   "cell_type": "code",
   "execution_count": 41,
   "metadata": {},
   "outputs": [
    {
     "data": {
      "text/plain": [
       "Text(0.5, 1.0, \"Distribution of Customers' Ages\")"
      ]
     },
     "execution_count": 41,
     "metadata": {},
     "output_type": "execute_result"
    },
    {
     "data": {
      "image/png": "[encoded data removed]",
      "text/plain": [
       "<Figure size 432x288 with 1 Axes>"
      ]
     },
     "metadata": {
      "needs_background": "light"
     },
     "output_type": "display_data"
    }
   ],
   "source": [
    "# Distribution of age, with an overlay of a density plot\n",
    "age_dist = sns.distplot(credit['AGE'])\n",
    "age_dist.set_title(\"Distribution of Customers' Ages\")"
   ]
  },
  {
   "cell_type": "markdown",
   "metadata": {},
   "source": [
    "This section is EDA on product arttributes information."
   ]
  },
  {
   "cell_type": "code",
   "execution_count": 75,
   "metadata": {},
   "outputs": [
    {
     "name": "stdout",
     "output_type": "stream",
     "text": [
      "count      30000.000000\n",
      "mean      167484.322667\n",
      "std       129747.661567\n",
      "min        10000.000000\n",
      "25%        50000.000000\n",
      "50%       140000.000000\n",
      "75%       240000.000000\n",
      "max      1000000.000000\n",
      "Name: LIMIT_BAL, dtype: float64\n",
      "Average and median amount of given credit are 167484 and 140000, respectively\n",
      "Variance is 16833894533.632648\n"
     ]
    }
   ],
   "source": [
    "# Amount of given credits\n",
    "print(credit['LIMIT_BAL'].describe())\n",
    "print('Average and median amount of given credit are %0.f and %0.f, respectively'%(credit.LIMIT_BAL.mean(), \n",
    "                                                                          credit.LIMIT_BAL.median()))\n",
    "print(\"Variance is % s\" \n",
    "      %(np.var(credit['LIMIT_BAL']))) "
   ]
  },
  {
   "cell_type": "markdown",
   "metadata": {},
   "source": [
    "Amount of given credits mean and median are close. But variance is large meaning there are some extreme values."
   ]
  },
  {
   "cell_type": "code",
   "execution_count": 63,
   "metadata": {},
   "outputs": [
    {
     "data": {
      "image/png": "[encoded data removed]",
      "text/plain": [
       "<Figure size 432x288 with 1 Axes>"
      ]
     },
     "metadata": {
      "needs_background": "light"
     },
     "output_type": "display_data"
    }
   ],
   "source": [
    "A = credit['LIMIT_BAL']\n",
    "plt.boxplot(A,0,'gD')\n",
    "plt.show()"
   ]
  },
  {
   "cell_type": "code",
   "execution_count": 64,
   "metadata": {},
   "outputs": [
    {
     "data": {
      "text/plain": [
       "count    30000.000000\n",
       "mean        -0.016700\n",
       "std          1.123802\n",
       "min         -2.000000\n",
       "25%         -1.000000\n",
       "50%          0.000000\n",
       "75%          0.000000\n",
       "max          8.000000\n",
       "Name: PAY_0, dtype: float64"
      ]
     },
     "execution_count": 64,
     "metadata": {},
     "output_type": "execute_result"
    }
   ],
   "source": [
    "# History of last payment\n",
    "credit['PAY_0'].describe()"
   ]
  },
  {
   "cell_type": "code",
   "execution_count": 76,
   "metadata": {},
   "outputs": [
    {
     "name": "stdout",
     "output_type": "stream",
     "text": [
      "count     30000.000000\n",
      "mean      51223.330900\n",
      "std       73635.860576\n",
      "min     -165580.000000\n",
      "25%        3558.750000\n",
      "50%       22381.500000\n",
      "75%       67091.000000\n",
      "max      964511.000000\n",
      "Name: BILL_AMT1, dtype: float64\n",
      "Average and median bill amount are 51223 and 22382, respectively\n",
      "Variance is 5422059221.366618\n"
     ]
    }
   ],
   "source": [
    "# Bill_Amount_1\n",
    "print(credit['BILL_AMT1'].describe())\n",
    "print('Average and median bill amount are %0.f and %0.f, respectively'%(credit.BILL_AMT1.mean(), \n",
    "                                                                          credit.BILL_AMT1.median()))\n",
    "print(\"Variance is % s\" \n",
    "      %(np.var(credit['BILL_AMT1']))) "
   ]
  },
  {
   "cell_type": "markdown",
   "metadata": {},
   "source": [
    "Median bill amount is half of average bill amount and standard deviation is large. This variable is right skewed."
   ]
  },
  {
   "cell_type": "code",
   "execution_count": 79,
   "metadata": {},
   "outputs": [
    {
     "data": {
      "text/plain": [
       "Text(0.5, 1.0, 'Distribution of Bill Amount in September')"
      ]
     },
     "execution_count": 79,
     "metadata": {},
     "output_type": "execute_result"
    },
    {
     "data": {
      "image/png": "[encoded data removed]",
      "text/plain": [
       "<Figure size 432x288 with 1 Axes>"
      ]
     },
     "metadata": {
      "needs_background": "light"
     },
     "output_type": "display_data"
    }
   ],
   "source": [
    "# Distribution of bill_amount_1, with an overlay of a density plot\n",
    "bill_AMT1_dist = sns.distplot(credit['BILL_AMT1'])\n",
    "bill_AMT1_dist.set_title(\"Distribution of Bill Amount in September\")"
   ]
  },
  {
   "cell_type": "code",
   "execution_count": 77,
   "metadata": {},
   "outputs": [
    {
     "name": "stdout",
     "output_type": "stream",
     "text": [
      "count     30000.000000\n",
      "mean       5663.580500\n",
      "std       16563.280354\n",
      "min           0.000000\n",
      "25%        1000.000000\n",
      "50%        2100.000000\n",
      "75%        5006.000000\n",
      "max      873552.000000\n",
      "Name: PAY_AMT1, dtype: float64\n",
      "Average and median amount of latest previous payment are 5664 and 2100, respectively\n",
      "Variance is 274333111.3442119\n"
     ]
    }
   ],
   "source": [
    "# Amount of previous payment\n",
    "print(credit['PAY_AMT1'].describe())\n",
    "\n",
    "print('Average and median amount of latest previous payment are %0.f and %0.f, respectively'%(credit.PAY_AMT1.mean(), \n",
    "                                                                          credit.PAY_AMT1.median()))\n",
    "print(\"Variance is % s\" \n",
    "      %(np.var(credit['PAY_AMT1']))) \n"
   ]
  },
  {
   "cell_type": "markdown",
   "metadata": {},
   "source": [
    "Median latest previous payment is half of average and standard deviation is large. This variable is right skewed."
   ]
  },
  {
   "cell_type": "code",
   "execution_count": 80,
   "metadata": {},
   "outputs": [
    {
     "data": {
      "text/plain": [
       "Text(0.5, 1.0, 'Distribution of Payment Amount in September')"
      ]
     },
     "execution_count": 80,
     "metadata": {},
     "output_type": "execute_result"
    },
    {
     "data": {
      "image/png": "[encoded data removed]",
      "text/plain": [
       "<Figure size 432x288 with 1 Axes>"
      ]
     },
     "metadata": {
      "needs_background": "light"
     },
     "output_type": "display_data"
    }
   ],
   "source": [
    "# Distribution of bill_amount_1, with an overlay of a density plot\n",
    "bill_AMT1_dist = sns.distplot(credit['PAY_AMT1'])\n",
    "bill_AMT1_dist.set_title(\"Distribution of Payment Amount in September\")"
   ]
  },
  {
   "cell_type": "code",
   "execution_count": null,
   "metadata": {},
   "outputs": [],
   "source": []
  }
 ],
 "metadata": {
  "kernelspec": {
   "display_name": "Python 3",
   "language": "python",
   "name": "python3"
  },
  "language_info": {
   "codemirror_mode": {
    "name": "ipython",
    "version": 3
   },
   "file_extension": ".py",
   "mimetype": "text/x-python",
   "name": "python",
   "nbconvert_exporter": "python",
   "pygments_lexer": "ipython3",
   "version": "3.7.6"
  }
 },
 "nbformat": 4,
 "nbformat_minor": 2
}
